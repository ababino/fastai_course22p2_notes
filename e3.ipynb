{
 "cells": [
  {
   "cell_type": "markdown",
   "id": "120f7fad",
   "metadata": {},
   "source": [
    "# Broadcasting from the Foundations"
   ]
  },
  {
   "cell_type": "code",
   "execution_count": 1,
   "id": "f1860d4b",
   "metadata": {},
   "outputs": [],
   "source": [
    "from collections.abc import Iterable\n",
    "from functools import wraps\n",
    "from itertools import zip_longest, product\n",
    "from math import log, exp\n",
    "\n",
    "from fastcore.all import *"
   ]
  },
  {
   "cell_type": "markdown",
   "id": "9ed86a19",
   "metadata": {},
   "source": [
    "## The Goal"
   ]
  },
  {
   "cell_type": "markdown",
   "id": "be436dca",
   "metadata": {},
   "source": [
    "The goal of broadcasting is to be memory efficient. The key idea is that instead of storing the data in a nested list of lists, we store it in a shallow list plus a shape tuple and a strides tuple."
   ]
  },
  {
   "cell_type": "markdown",
   "id": "ca07930c",
   "metadata": {},
   "source": [
    "## The Rules"
   ]
  },
  {
   "cell_type": "markdown",
   "id": "35cdaeba",
   "metadata": {},
   "source": [
    "We are allow to use only plain python plus the standard library. We do use `fastcore` for testing and to split class methods into different cells of the notebook."
   ]
  },
  {
   "cell_type": "markdown",
   "id": "7f437546",
   "metadata": {},
   "source": [
    "## Functions"
   ]
  },
  {
   "cell_type": "markdown",
   "id": "d03927c0",
   "metadata": {},
   "source": [
    "### Flatten"
   ]
  },
  {
   "cell_type": "markdown",
   "id": "3d2827fe",
   "metadata": {},
   "source": [
    "We want to use as an input a nested list of lists, but we need a function to flatten this list before storing it into a class property."
   ]
  },
  {
   "cell_type": "code",
   "execution_count": 3,
   "id": "4ad29efd",
   "metadata": {},
   "outputs": [],
   "source": [
    "def flatten(x):\n",
    "    for item in x:\n",
    "        if isinstance(item, Iterable):\n",
    "            yield from flatten(item)\n",
    "        else:\n",
    "            yield item"
   ]
  },
  {
   "cell_type": "code",
   "execution_count": 37,
   "id": "d00eac47",
   "metadata": {},
   "outputs": [],
   "source": [
    "l1 = []\n",
    "l2 = [0]\n",
    "l3 = [0,1]\n",
    "l4 = [[0,1], [2,3]]\n",
    "l5 = [[0,1], [2,3], [4,5]]\n",
    "l6 = [[[0,1], [2,3], [4,5]], [[0,1], [2,3], [4,5]], [[0,1], [2,3], [4,5]], [[0,1], [2,3], [4,5]]]"
   ]
  },
  {
   "cell_type": "code",
   "execution_count": 4,
   "id": "e5393126",
   "metadata": {},
   "outputs": [],
   "source": [
    "test_eq(list(flatten(l6)), [0, 1, 2, 3, 4, 5, 0, 1, 2, 3, 4, 5, 0, 1, 2, 3, 4, 5, 0, 1, 2, 3, 4, 5])"
   ]
  },
  {
   "cell_type": "markdown",
   "id": "f06f343e",
   "metadata": {},
   "source": [
    "### Shape"
   ]
  },
  {
   "cell_type": "markdown",
   "id": "9217ce61",
   "metadata": {},
   "source": [
    "We also need a function to get the shape from a list of lists."
   ]
  },
  {
   "cell_type": "code",
   "execution_count": 5,
   "id": "50410d74",
   "metadata": {},
   "outputs": [],
   "source": [
    "def get_shape(x):\n",
    "    if isinstance(x, Iterable):\n",
    "        s = (len(x),)\n",
    "        if len(x)>0 and isinstance(x[0], Iterable):\n",
    "            s += get_shape(x[0])\n",
    "        return s"
   ]
  },
  {
   "cell_type": "code",
   "execution_count": 6,
   "id": "8b8a1bad",
   "metadata": {},
   "outputs": [],
   "source": [
    "test_eq(get_shape(l1), (0,))\n",
    "test_eq(get_shape([[]]), (1, 0))\n",
    "test_eq(get_shape([[1]]), (1,1))\n",
    "test_eq(get_shape([[1,2]]), (1,2))\n",
    "test_eq(get_shape(l4), (2, 2))\n",
    "test_eq(get_shape(l5), (3, 2))\n",
    "test_eq(get_shape(l6), (4, 3, 2))"
   ]
  },
  {
   "cell_type": "markdown",
   "id": "66720f1e",
   "metadata": {},
   "source": [
    "### Strides"
   ]
  },
  {
   "cell_type": "markdown",
   "id": "d8010142",
   "metadata": {},
   "source": [
    "Finally, we need a function to get the strides from the shape. A excelent explanation of what are the strides have been already written [elsewere](https://stackoverflow.com/a/53099870)."
   ]
  },
  {
   "cell_type": "code",
   "execution_count": 7,
   "id": "ab313de2",
   "metadata": {},
   "outputs": [],
   "source": [
    "def get_strides_from_shape(shape):\n",
    "    strides = (1,)\n",
    "    for x in shape[:0:-1]: strides = (strides[0]*x,) + strides\n",
    "    return strides"
   ]
  },
  {
   "cell_type": "code",
   "execution_count": 8,
   "id": "b58726f1",
   "metadata": {},
   "outputs": [],
   "source": [
    "test_eq(get_strides_from_shape((2,2,4)), (8, 4, 1))"
   ]
  },
  {
   "cell_type": "markdown",
   "id": "80a263e1",
   "metadata": {},
   "source": [
    "## The Matrix Class"
   ]
  },
  {
   "cell_type": "markdown",
   "id": "f5a0e2b9",
   "metadata": {},
   "source": [
    "Now we can write the `Matrix` class with a `__getitme__`, `__setitem__` and a `__repr__` methods."
   ]
  },
  {
   "cell_type": "code",
   "execution_count": 9,
   "id": "d826016f",
   "metadata": {},
   "outputs": [],
   "source": [
    "class Matrix:\n",
    "    \n",
    "    def __init__(self, values=None, shape=None, strides=None):\n",
    "        if values:\n",
    "            self.values = list(flatten(values))\n",
    "        else:\n",
    "            self.values = [None] * round(exp(sum(map(log, shape))))\n",
    "        if shape:\n",
    "            self.shape = shape\n",
    "        else:\n",
    "            self.shape = get_shape(values)\n",
    "        if strides:\n",
    "            self.strides = strides\n",
    "        else:\n",
    "            self.build_strides_from_shape()\n",
    "    \n",
    "    def build_strides_from_shape(self):\n",
    "        self.strides = get_strides_from_shape(self.shape)\n",
    "        return self\n",
    "\n",
    "    def __getitem__(self, idxs):\n",
    "        i = sum(map(lambda x: x[0]*x[1], zip(idxs, self.strides)))\n",
    "        return self.values[i]\n",
    "\n",
    "    def __setitem__(self, idxs, val):\n",
    "        i = sum(map(lambda x: x[0]*x[1], zip(idxs, self.strides)))\n",
    "        self.values[i] = val\n",
    "\n",
    "    def __repr__(self):\n",
    "        if len(self.shape)==1:\n",
    "            return str(self.values)\n",
    "        elif len(self.shape)==2:\n",
    "            s = ''\n",
    "            for i in range(self.shape[0]):\n",
    "                s += ', '.join([f'{self[i, j]}' for j in range(self.shape[1])])\n",
    "                s += '\\n'\n",
    "            return s\n",
    "        else:\n",
    "            raise Exception('Not Implemented')\n",
    "\n",
    "    def flatten_iter(self):\n",
    "        flattened_indices = product(*map(range, self.shape))\n",
    "        for index in flattened_indices:\n",
    "            yield self[index]"
   ]
  },
  {
   "cell_type": "code",
   "execution_count": 10,
   "id": "ccc3a41f",
   "metadata": {},
   "outputs": [
    {
     "data": {
      "text/plain": [
       "0, 1\n",
       "2, 3"
      ]
     },
     "execution_count": 10,
     "metadata": {},
     "output_type": "execute_result"
    }
   ],
   "source": [
    "m = Matrix([[0,1], [2,3]])\n",
    "m"
   ]
  },
  {
   "cell_type": "code",
   "execution_count": 11,
   "id": "dccc54b4",
   "metadata": {},
   "outputs": [],
   "source": [
    "test_eq(m[1, 0], 2)"
   ]
  },
  {
   "cell_type": "code",
   "execution_count": 12,
   "id": "ba505cb8",
   "metadata": {},
   "outputs": [
    {
     "data": {
      "text/plain": [
       "0, 1\n",
       "2, -1"
      ]
     },
     "execution_count": 12,
     "metadata": {},
     "output_type": "execute_result"
    }
   ],
   "source": [
    "m[1, 1] = -1\n",
    "test_eq(m[1, 1], -1)\n",
    "m"
   ]
  },
  {
   "cell_type": "code",
   "execution_count": 13,
   "id": "4562c1eb",
   "metadata": {},
   "outputs": [
    {
     "data": {
      "text/plain": [
       "None, None, None\n",
       "None, None, None"
      ]
     },
     "execution_count": 13,
     "metadata": {},
     "output_type": "execute_result"
    }
   ],
   "source": [
    "Matrix(shape=(2,3))"
   ]
  },
  {
   "cell_type": "markdown",
   "id": "26462326",
   "metadata": {},
   "source": [
    "### The Broadcasting Rules"
   ]
  },
  {
   "cell_type": "markdown",
   "id": "43ee5195",
   "metadata": {},
   "source": [
    "[Broadcasting docs](https://numpy.org/doc/stable/user/basics.broadcasting.html)\n",
    ">When operating on two arrays, NumPy compares their shapes element-wise. It starts with the trailing (i.e. rightmost) dimensions and works its way left. Two dimensions are compatible when\n",
    ">\n",
    ">    1. they are equal, or\n",
    ">\n",
    ">    2. one of them is 1\n",
    ">\n",
    ">If these conditions are not met, a ValueError: operands could not be broadcast together exception is thrown, indicating that the arrays have incompatible shapes. The size of the resulting array is the size that is not 1 along each axis of the inputs."
   ]
  },
  {
   "cell_type": "markdown",
   "id": "0fef103b",
   "metadata": {},
   "source": [
    "To build this functionality we can write a method to reshape the matrix without changing the `values` property by changing the `shape` and `strides` property that control how the `values` are accessed by the `__getitem__` method."
   ]
  },
  {
   "cell_type": "code",
   "execution_count": 14,
   "id": "d2cc7537",
   "metadata": {},
   "outputs": [],
   "source": [
    "@patch\n",
    "def as_shape(self:Matrix, shape):\n",
    "    if shape == self.shape: return Matrix(values=self.values, shape=self.shape, strides=self.strides)\n",
    "    strides = []\n",
    "    new_shape = []\n",
    "    for sdim, sstride, odim in zip_longest(self.shape[::-1], self.strides[::-1], shape[::-1]):\n",
    "        if odim==sdim or odim==1 or odim is None:\n",
    "            strides.append(sstride)\n",
    "            new_shape.append(max(sdim, odim))\n",
    "        elif sdim==1 or sdim is None:\n",
    "            strides.append(0)\n",
    "            new_shape.append(odim)\n",
    "        else:\n",
    "            raise ValueError('operands could not be broadcast together ')\n",
    "    new = Matrix(values=self.values, shape=tuple(new_shape[::-1]), strides=tuple(strides[::-1]))\n",
    "    return new"
   ]
  },
  {
   "cell_type": "code",
   "execution_count": 15,
   "id": "e90fed27",
   "metadata": {},
   "outputs": [],
   "source": [
    "m1 = Matrix([[0, 1, 2]])"
   ]
  },
  {
   "cell_type": "code",
   "execution_count": 16,
   "id": "072ae7a2",
   "metadata": {},
   "outputs": [
    {
     "data": {
      "text/plain": [
       "0, 1, 2"
      ]
     },
     "execution_count": 16,
     "metadata": {},
     "output_type": "execute_result"
    }
   ],
   "source": [
    "m1"
   ]
  },
  {
   "cell_type": "code",
   "execution_count": 17,
   "id": "e814e30c",
   "metadata": {},
   "outputs": [
    {
     "data": {
      "text/plain": [
       "(1, 3)"
      ]
     },
     "execution_count": 17,
     "metadata": {},
     "output_type": "execute_result"
    }
   ],
   "source": [
    "m1.shape"
   ]
  },
  {
   "cell_type": "code",
   "execution_count": 18,
   "id": "0a53f9d5",
   "metadata": {},
   "outputs": [
    {
     "data": {
      "text/plain": [
       "0, 1, 2\n",
       "0, 1, 2"
      ]
     },
     "execution_count": 18,
     "metadata": {},
     "output_type": "execute_result"
    }
   ],
   "source": [
    "m1.as_shape((2, 3))"
   ]
  },
  {
   "cell_type": "code",
   "execution_count": 19,
   "id": "ca9d6b00",
   "metadata": {},
   "outputs": [],
   "source": [
    "test_fail(lambda: m1.as_shape((2, 4)), msg='operands could not be broadcast together')"
   ]
  },
  {
   "cell_type": "code",
   "execution_count": 20,
   "id": "5afc0185",
   "metadata": {},
   "outputs": [],
   "source": [
    "m1 = Matrix([0, 1, 2])"
   ]
  },
  {
   "cell_type": "code",
   "execution_count": 21,
   "id": "bd324a20",
   "metadata": {},
   "outputs": [],
   "source": [
    "m2 = Matrix([[0,1, 2], [3,4,5]])"
   ]
  },
  {
   "cell_type": "markdown",
   "id": "f8c23cfe",
   "metadata": {},
   "source": [
    "### The Broadcast Decorator"
   ]
  },
  {
   "cell_type": "markdown",
   "id": "e93955e6",
   "metadata": {},
   "source": [
    "We can write a `broadcast` decorator that, if needed, reshapes the matrices that we want to add together before the operation takes place."
   ]
  },
  {
   "cell_type": "code",
   "execution_count": 22,
   "id": "cc815f7e",
   "metadata": {},
   "outputs": [],
   "source": [
    "def broadcast(fun):\n",
    "    @wraps(fun)\n",
    "    def _inner(a, b):\n",
    "        reshaped_a = a.as_shape(b.shape)\n",
    "        reshaped_b = b.as_shape(a.shape)\n",
    "        return fun(reshaped_a, reshaped_b)\n",
    "    return _inner"
   ]
  },
  {
   "cell_type": "markdown",
   "id": "47a31705",
   "metadata": {},
   "source": [
    "### Broadcasting `__add__`"
   ]
  },
  {
   "cell_type": "markdown",
   "id": "7b40f4c5",
   "metadata": {},
   "source": [
    "We can test the `boradcast` decorator on the `__add__` method."
   ]
  },
  {
   "cell_type": "code",
   "execution_count": 23,
   "id": "b90bfb2b",
   "metadata": {},
   "outputs": [],
   "source": [
    "@patch\n",
    "@broadcast\n",
    "def __add__(self:Matrix, other):\n",
    "    result = Matrix(shape=self.shape)\n",
    "    for i, (a, b) in enumerate(zip(self.flatten_iter(), other.flatten_iter())):\n",
    "        result.values[i] = a + b\n",
    "    return result "
   ]
  },
  {
   "cell_type": "code",
   "execution_count": 24,
   "id": "9d2af752",
   "metadata": {},
   "outputs": [],
   "source": [
    "m1 = Matrix([[0, 1, 2]])\n",
    "m2 = Matrix([[0,1, 2], [3,4,5]])\n",
    "m = Matrix([[0,1], [2,3]])"
   ]
  },
  {
   "cell_type": "code",
   "execution_count": 25,
   "id": "cb07adc7",
   "metadata": {},
   "outputs": [
    {
     "data": {
      "text/plain": [
       "0, 1\n",
       "2, 3"
      ]
     },
     "execution_count": 25,
     "metadata": {},
     "output_type": "execute_result"
    }
   ],
   "source": [
    "m"
   ]
  },
  {
   "cell_type": "code",
   "execution_count": 26,
   "id": "1d6e0fe8",
   "metadata": {},
   "outputs": [
    {
     "data": {
      "text/plain": [
       "0, 2\n",
       "4, 6"
      ]
     },
     "execution_count": 26,
     "metadata": {},
     "output_type": "execute_result"
    }
   ],
   "source": [
    "m+m"
   ]
  },
  {
   "cell_type": "code",
   "execution_count": 27,
   "id": "cafae64b",
   "metadata": {},
   "outputs": [
    {
     "data": {
      "text/plain": [
       "0, 1, 2"
      ]
     },
     "execution_count": 27,
     "metadata": {},
     "output_type": "execute_result"
    }
   ],
   "source": [
    "m1 = Matrix([[0,1, 2]])\n",
    "m1"
   ]
  },
  {
   "cell_type": "code",
   "execution_count": 28,
   "id": "015772ab",
   "metadata": {},
   "outputs": [
    {
     "data": {
      "text/plain": [
       "0, 1, 2\n",
       "3, 4, 5"
      ]
     },
     "execution_count": 28,
     "metadata": {},
     "output_type": "execute_result"
    }
   ],
   "source": [
    "m2 = Matrix([[0,1, 2], [3,4,5]])\n",
    "m2"
   ]
  },
  {
   "cell_type": "code",
   "execution_count": 29,
   "id": "3bd56865",
   "metadata": {},
   "outputs": [
    {
     "data": {
      "text/plain": [
       "0, 2, 4\n",
       "3, 5, 7"
      ]
     },
     "execution_count": 29,
     "metadata": {},
     "output_type": "execute_result"
    }
   ],
   "source": [
    "m2+m1.as_shape((2, 3))"
   ]
  },
  {
   "cell_type": "code",
   "execution_count": 30,
   "id": "fba3a828",
   "metadata": {},
   "outputs": [
    {
     "data": {
      "text/plain": [
       "0, 2, 4\n",
       "3, 5, 7"
      ]
     },
     "execution_count": 30,
     "metadata": {},
     "output_type": "execute_result"
    }
   ],
   "source": [
    "m1.as_shape((2, 3))+m2"
   ]
  },
  {
   "cell_type": "code",
   "execution_count": 31,
   "id": "8f53f661",
   "metadata": {},
   "outputs": [
    {
     "data": {
      "text/plain": [
       "0, 2, 4\n",
       "3, 5, 7"
      ]
     },
     "execution_count": 31,
     "metadata": {},
     "output_type": "execute_result"
    }
   ],
   "source": [
    "m1+m2"
   ]
  },
  {
   "cell_type": "code",
   "execution_count": 32,
   "id": "3d8c6b22",
   "metadata": {},
   "outputs": [
    {
     "data": {
      "text/plain": [
       "0, 2, 4\n",
       "3, 5, 7"
      ]
     },
     "execution_count": 32,
     "metadata": {},
     "output_type": "execute_result"
    }
   ],
   "source": [
    "m2+m1"
   ]
  },
  {
   "cell_type": "code",
   "execution_count": 33,
   "id": "de0d6d6c",
   "metadata": {},
   "outputs": [],
   "source": [
    "m3 = Matrix([[0,1,2, 3], [4,5,6,7]])"
   ]
  },
  {
   "cell_type": "code",
   "execution_count": 34,
   "id": "52ca19a2",
   "metadata": {},
   "outputs": [
    {
     "data": {
      "text/plain": [
       "0, 1, 2, 3\n",
       "4, 5, 6, 7"
      ]
     },
     "execution_count": 34,
     "metadata": {},
     "output_type": "execute_result"
    }
   ],
   "source": [
    "m3"
   ]
  },
  {
   "cell_type": "code",
   "execution_count": 35,
   "id": "812cbb7e",
   "metadata": {},
   "outputs": [],
   "source": [
    "test_fail(lambda: m2+m3, msg='operands could not be broadcast together') "
   ]
  },
  {
   "cell_type": "code",
   "execution_count": 36,
   "id": "16357870",
   "metadata": {},
   "outputs": [],
   "source": [
    "test_fail(lambda: m3+m2, msg='operands could not be broadcast together') "
   ]
  }
 ],
 "metadata": {
  "kernelspec": {
   "display_name": "Python 3 (ipykernel)",
   "language": "python",
   "name": "python3"
  },
  "language_info": {
   "codemirror_mode": {
    "name": "ipython",
    "version": 3
   },
   "file_extension": ".py",
   "mimetype": "text/x-python",
   "name": "python",
   "nbconvert_exporter": "python",
   "pygments_lexer": "ipython3",
   "version": "3.10.6"
  }
 },
 "nbformat": 4,
 "nbformat_minor": 5
}
